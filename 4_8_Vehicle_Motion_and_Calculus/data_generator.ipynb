{
 "cells": [
  {
   "cell_type": "code",
   "execution_count": 1,
   "metadata": {},
   "outputs": [],
   "source": [
    "from math import pi, sin, cos, tan\n",
    "from matplotlib import pyplot as plt\n",
    "import pickle\n",
    "import numpy as np\n",
    "\n",
    "%matplotlib inline\n",
    "\n",
    "\n",
    "\n",
    "class Car:\n",
    "    \n",
    "    fps       = 16.0     # frames per second\n",
    "    dt        = 1.0 / fps # time per frame\n",
    "    max_steer = 30.0      # degrees\n",
    "    L         = 4.0       # meters\n",
    "    max_a     = 2 * 9.8   # m/s/s\n",
    "    max_brake = 5 * 9.8   \n",
    "    \n",
    "    def __init__(self):\n",
    "        # state variables\n",
    "        self.x     = 0.0\n",
    "        self.y     = 0.0\n",
    "        self.theta = 0.0  # east\n",
    "        self.speed = 0.0\n",
    "        self.omega = 0.0\n",
    "        self.t     = 0.0\n",
    "        \n",
    "        # driver controllable\n",
    "        self.a_y   = 0.0\n",
    "        self.alpha = 0.0\n",
    "        \n",
    "        # state history\n",
    "        self.history = [(0,0,0,0,0,0,0,0)]\n",
    "        \n",
    "        self.braking = False\n",
    "        self.backing = False\n",
    "        \n",
    "    def reverse(self):\n",
    "        self.a_y = 0.0\n",
    "        self.backing = True\n",
    "        \n",
    "    def forward(self):\n",
    "        self.a_y = 0.0\n",
    "        self.backing = False\n",
    "\n",
    "    def steer(self, angle):\n",
    "        assert -self.max_steer <= angle <= self.max_steer\n",
    "        self.alpha = angle * pi / 180\n",
    "    \n",
    "    def gas(self, amount):\n",
    "        assert -1.0 <= amount <= 1.0\n",
    "        self.a_y = amount * self.max_a\n",
    "        \n",
    "#     def brake(self, amount):\n",
    "#         assert 0.0 <= amount <= 1.0\n",
    "#         sgn = -1.0\n",
    "#         if self.speed < 0.0:\n",
    "#             sgn = 1.0\n",
    "#         self.braking = True\n",
    "#         self.a_y = sgn * amount * self.max_brake\n",
    "    \n",
    "    def go(self, duration):\n",
    "        num_frames = int(duration / self.dt)\n",
    "        for i in range(num_frames):\n",
    "            snapshot = (\n",
    "                self.t+self.dt,    # \n",
    "                self.a_y,  # \n",
    "                self.speed,#\n",
    "                self.x,    \n",
    "                self.y,    \n",
    "                self.theta,\n",
    "                self.omega, #\n",
    "                self.alpha,#\n",
    "            )\n",
    "            self.history.append(snapshot)\n",
    "            self.increment_frame()\n",
    "    \n",
    "    def increment_frame(self):\n",
    "        new_t      = self.t + self.dt\n",
    "        new_a_y    = self.a_y\n",
    "        new_speed  = self.speed + self.a_y * self.dt\n",
    "        if self.backing:\n",
    "            new_speed  = self.speed - self.a_y * self.dt \n",
    "        new_alpha  = self.alpha\n",
    "        new_omega  = self.speed / self.L * tan(self.alpha)\n",
    "        new_theta  = (self.theta + self.omega * self.dt) % (2*pi)\n",
    "        \n",
    "        # intermediate steps for x, y\n",
    "        distance   = self.speed * self.dt\n",
    "        dx         = distance * cos(self.theta)\n",
    "        dy         = distance * sin(self.theta)\n",
    "        \n",
    "        new_x      = self.x + dx\n",
    "        new_y      = self.y + dy\n",
    "        \n",
    "        self.t     = new_t\n",
    "        self.a_y   = new_a_y\n",
    "        self.speed = new_speed\n",
    "        self.alpha = new_alpha\n",
    "        self.omega = new_omega\n",
    "        self.theta = new_theta\n",
    "        self.x     = new_x\n",
    "        self.y     = new_y\n",
    "        \n",
    "    def show_history(self, increment=10):\n",
    "        t, a, s, x, y, theta, omega, alpha = np.array(car.history).T\n",
    "        plt.scatter(x[::increment],y[::increment])\n",
    "        \n",
    "    def show_history2(self, inc=10):\n",
    "        t, a, s, x, y, theta, omega, alpha = np.array(car.history).T\n",
    "        u = np.cos(theta)\n",
    "        v = np.sin(theta)\n",
    "#         m = np.hypot(u,v)\n",
    "        Q = plt.quiver(x[::inc],y[::inc],u[::inc],v[::inc], \n",
    "                       units='x', pivot='tip')\n",
    "        qk = plt.quiverkey(Q, 0.9, 0.9, 2, r'$1 \\frac{m}{s}', \n",
    "                           labelpos='E', coordinates='figure' )\n",
    "        \n",
    "        \n",
    "    def get_displacements(self):\n",
    "        disp = 0\n",
    "        displacements = [disp]\n",
    "        t, a, s, x, y, theta, omega, alpha = np.array(car.history).T\n",
    "        last_t = 0.0\n",
    "        for ts, speed in zip(t[1:], s[1:] ):\n",
    "            dt = ts - last_t\n",
    "            dD = speed * dt\n",
    "            disp += dD\n",
    "            displacements.append(disp)\n",
    "            last_t = ts\n",
    "        return displacements\n",
    "        \n",
    "        \n",
    "    def save_trajectory(self, filename):\n",
    "        t, a, s, x, y, theta, omega, alpha = np.array(car.history).T\n",
    "        displacements = self.get_displacements()\n",
    "        assert(len(displacements) == len(t) )\n",
    "        trajectory = zip(t, displacements, omega, a)\n",
    "        with open(filename, 'wb') as f:\n",
    "            pickle.dump(trajectory, f)\n",
    "        print(\"saved trajectory to\", filename)\n",
    "            "
   ]
  },
  {
   "cell_type": "code",
   "execution_count": 2,
   "metadata": {},
   "outputs": [],
   "source": [
    "car = Car()\n",
    "car.gas(0.2)\n",
    "car.steer(0.0)\n",
    "car.go(5.0)\n",
    "\n",
    "car.gas(0.0)\n",
    "car.steer(20)\n",
    "car.go(1.0)\n",
    "\n",
    "car.gas(-0.35)\n",
    "car.go(2.0)\n",
    "\n",
    "car.gas(0.0)\n",
    "car.steer(0.0)\n",
    "car.go(0.5)\n",
    "\n",
    "car.gas(0.5)\n",
    "car.go(3.5)\n",
    "car.gas(0.0)\n",
    "car.go(1.0)"
   ]
  },
  {
   "cell_type": "code",
   "execution_count": 3,
   "metadata": {},
   "outputs": [
    {
     "data": {
      "image/png": "[encoded data removed]",
      "text/plain": [
       "<Figure size 432x288 with 1 Axes>"
      ]
     },
     "metadata": {
      "needs_background": "light"
     },
     "output_type": "display_data"
    }
   ],
   "source": [
    "car.show_history2(2)"
   ]
  },
  {
   "cell_type": "code",
   "execution_count": 4,
   "metadata": {},
   "outputs": [
    {
     "name": "stdout",
     "output_type": "stream",
     "text": [
      "saved trajectory to trajectory_1.pickle\n"
     ]
    }
   ],
   "source": [
    "car.save_trajectory(\"trajectory_1.pickle\")"
   ]
  },
  {
   "cell_type": "code",
   "execution_count": 5,
   "metadata": {},
   "outputs": [
    {
     "data": {
      "image/png": "[encoded data removed]",
      "text/plain": [
       "<Figure size 432x288 with 1 Axes>"
      ]
     },
     "metadata": {
      "needs_background": "light"
     },
     "output_type": "display_data"
    }
   ],
   "source": [
    "car = Car()\n",
    "\n",
    "car.reverse()\n",
    "car.gas(0.1)\n",
    "car.steer(0.0)\n",
    "car.go(1.0)\n",
    "\n",
    "car.gas(0.0)\n",
    "car.steer(-car.max_steer)\n",
    "car.go(1.0)\n",
    "\n",
    "car.steer(car.max_steer)\n",
    "car.go(1.0)\n",
    "\n",
    "car.steer(0.0)\n",
    "car.go(0.2)\n",
    "\n",
    "car.forward()\n",
    "car.gas(0.15)\n",
    "car.go(2.0)\n",
    "\n",
    "car.gas(0.0)\n",
    "car.go(0.2)\n",
    "\n",
    "car.reverse()\n",
    "car.gas(0.5)\n",
    "car.go(0.41)\n",
    "\n",
    "car.show_history2(1)"
   ]
  },
  {
   "cell_type": "code",
   "execution_count": 6,
   "metadata": {},
   "outputs": [
    {
     "name": "stdout",
     "output_type": "stream",
     "text": [
      "saved trajectory to sharp_left.pickle\n"
     ]
    }
   ],
   "source": [
    "car.save_trajectory(\"sharp_left.pickle\")"
   ]
  },
  {
   "cell_type": "code",
   "execution_count": 7,
   "metadata": {},
   "outputs": [
    {
     "ename": "SyntaxError",
     "evalue": "invalid syntax (2160058060.py, line 1)",
     "output_type": "error",
     "traceback": [
      "\u001b[0;36m  File \u001b[0;32m\"/var/folders/31/5by290l10qs6lzf74v2ydhz40000gn/T/ipykernel_64825/2160058060.py\"\u001b[0;36m, line \u001b[0;32m1\u001b[0m\n\u001b[0;31m    np.array(car.history).\u001b[0m\n\u001b[0m                          ^\u001b[0m\n\u001b[0;31mSyntaxError\u001b[0m\u001b[0;31m:\u001b[0m invalid syntax\n"
     ]
    }
   ],
   "source": [
    "np.array(car.history)."
   ]
  },
  {
   "cell_type": "code",
   "execution_count": null,
   "metadata": {},
   "outputs": [],
   "source": [
    "import pickle\n",
    "\n",
    "def process_data(filename):\n",
    "    with open(filename, 'rb') as f:\n",
    "        data_list = pickle.load(f)\n",
    "    return list(data_list)"
   ]
  },
  {
   "cell_type": "code",
   "execution_count": null,
   "metadata": {},
   "outputs": [],
   "source": [
    "data = process_data(\"trajectory_2.pickle\")"
   ]
  },
  {
   "cell_type": "code",
   "execution_count": null,
   "metadata": {},
   "outputs": [],
   "source": [
    "data[0]"
   ]
  },
  {
   "cell_type": "code",
   "execution_count": null,
   "metadata": {},
   "outputs": [],
   "source": [
    "T = list(np.array(data).T[0])\n",
    "D = list(np.array(data).T[1])"
   ]
  },
  {
   "cell_type": "code",
   "execution_count": null,
   "metadata": {},
   "outputs": [],
   "source": [
    "plt.scatter(T,D)"
   ]
  },
  {
   "cell_type": "code",
   "execution_count": null,
   "metadata": {},
   "outputs": [],
   "source": []
  }
 ],
 "metadata": {
  "kernelspec": {
   "display_name": "CVND",
   "language": "python",
   "name": "cvnd"
  },
  "language_info": {
   "codemirror_mode": {
    "name": "ipython",
    "version": 3
   },
   "file_extension": ".py",
   "mimetype": "text/x-python",
   "name": "python",
   "nbconvert_exporter": "python",
   "pygments_lexer": "ipython3",
   "version": "3.9.6"
  }
 },
 "nbformat": 4,
 "nbformat_minor": 2
}
