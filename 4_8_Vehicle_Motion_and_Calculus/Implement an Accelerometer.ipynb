{
 "cells": [
  {
   "cell_type": "markdown",
   "metadata": {},
   "source": [
    "# Implement an Accelerometer\n",
    "In this notebook you will define your own `get_derivative_from_data` function and use it to differentiate position data ONCE to get velocity information and then again to get acceleration information.\n",
    "\n",
    "In part 1 I will demonstrate what this process looks like and then in part 2 you'll implement the function yourself."
   ]
  },
  {
   "cell_type": "markdown",
   "metadata": {},
   "source": [
    "-----"
   ]
  },
  {
   "cell_type": "markdown",
   "metadata": {},
   "source": [
    "## Part 1 - Reminder and Demonstration"
   ]
  },
  {
   "cell_type": "code",
   "execution_count": null,
   "metadata": {},
   "outputs": [],
   "source": [
    "# run this cell for required imports\n",
    "\n",
    "from helpers import process_data\n",
    "from helpers import get_derivative_from_data as solution_derivative\n",
    "from matplotlib import pyplot as plt"
   ]
  },
  {
   "cell_type": "code",
   "execution_count": null,
   "metadata": {},
   "outputs": [],
   "source": [
    "# load the parallel park data\n",
    "PARALLEL_PARK_DATA = process_data(\"parallel_park.pickle\")\n",
    "\n",
    "# get the relevant columns\n",
    "timestamps    = [row[0] for row in PARALLEL_PARK_DATA]\n",
    "displacements = [row[1] for row in PARALLEL_PARK_DATA]\n",
    "\n",
    "# calculate first derivative\n",
    "speeds = solution_derivative(displacements, timestamps)\n",
    "\n",
    "# plot\n",
    "plt.title(\"Position and Velocity vs Time\")\n",
    "plt.xlabel(\"Time (seconds)\")\n",
    "plt.ylabel(\"Position (blue) and Speed (orange)\")\n",
    "plt.scatter(timestamps, displacements)\n",
    "plt.scatter(timestamps[1:], speeds)\n",
    "plt.show()"
   ]
  },
  {
   "cell_type": "markdown",
   "metadata": {},
   "source": [
    "But you just saw that acceleration is the derivative of velocity... which means we can use the same derivative function to calculate acceleration!"
   ]
  },
  {
   "cell_type": "code",
   "execution_count": null,
   "metadata": {},
   "outputs": [],
   "source": [
    "# calculate SECOND derivative \n",
    "accelerations = solution_derivative(speeds, timestamps[1:])\n",
    "\n",
    "# plot (note the slicing of timestamps from 2 --> end)\n",
    "plt.scatter(timestamps[2:], accelerations)\n",
    "plt.show()"
   ]
  },
  {
   "cell_type": "markdown",
   "metadata": {},
   "source": [
    "As you can see, this parallel park motion consisted of four segments with different (but constant) acceleration. We can plot all three quantities at once like this:\n",
    "\n"
   ]
  },
  {
   "cell_type": "code",
   "execution_count": null,
   "metadata": {},
   "outputs": [],
   "source": [
    "plt.title(\"x(t), v(t), a(t)\")\n",
    "plt.xlabel(\"Time (seconds)\")\n",
    "plt.ylabel(\"x (blue), v (orange), a (green)\")\n",
    "plt.scatter(timestamps, displacements)\n",
    "plt.scatter(timestamps[1:], speeds)\n",
    "plt.scatter(timestamps[2:], accelerations)\n",
    "plt.show()"
   ]
  },
  {
   "cell_type": "markdown",
   "metadata": {},
   "source": [
    "----"
   ]
  },
  {
   "cell_type": "markdown",
   "metadata": {},
   "source": [
    "## Part 2 - Implement it yourself!"
   ]
  },
  {
   "cell_type": "code",
   "execution_count": null,
   "metadata": {},
   "outputs": [],
   "source": [
    "def get_derivative_from_data(position_data, time_data):\n",
    "    # TODO - try your best to implement this code yourself!\n",
    "    #        if you get really stuck feel free to go back\n",
    "    #        to the previous notebook for a hint.\n",
    "    return "
   ]
  },
  {
   "cell_type": "code",
   "execution_count": null,
   "metadata": {},
   "outputs": [],
   "source": [
    "# Testing part 1 - visual testing of first derivative\n",
    "#   compare this output to the corresponding graph above.\n",
    "speeds = get_derivative_from_data(displacements, timestamps)\n",
    "\n",
    "plt.title(\"Position and Velocity vs Time\")\n",
    "plt.xlabel(\"Time (seconds)\")\n",
    "plt.ylabel(\"Position (blue) and Speed (orange)\")\n",
    "plt.scatter(timestamps, displacements)\n",
    "plt.scatter(timestamps[1:], speeds)\n",
    "plt.show()"
   ]
  },
  {
   "cell_type": "code",
   "execution_count": null,
   "metadata": {},
   "outputs": [],
   "source": [
    "# Testing part 2 - visual testing of second derivative\n",
    "#   compare this output to the corresponding graph above.\n",
    "speeds = get_derivative_from_data(displacements, timestamps)\n",
    "accelerations = get_derivative_from_data(speeds, timestamps[1:])\n",
    "\n",
    "plt.title(\"x(t), v(t), a(t)\")\n",
    "plt.xlabel(\"Time (seconds)\")\n",
    "plt.ylabel(\"x (blue), v (orange), a (green)\")\n",
    "plt.scatter(timestamps, displacements)\n",
    "plt.scatter(timestamps[1:], speeds)\n",
    "plt.scatter(timestamps[2:], accelerations)\n",
    "plt.show()"
   ]
  }
 ],
 "metadata": {
  "kernelspec": {
   "display_name": "Python 3",
   "language": "python",
   "name": "python3"
  },
  "language_info": {
   "codemirror_mode": {
    "name": "ipython",
    "version": 3
   },
   "file_extension": ".py",
   "mimetype": "text/x-python",
   "name": "python",
   "nbconvert_exporter": "python",
   "pygments_lexer": "ipython3",
   "version": "3.6.3"
  }
 },
 "nbformat": 4,
 "nbformat_minor": 2
}
