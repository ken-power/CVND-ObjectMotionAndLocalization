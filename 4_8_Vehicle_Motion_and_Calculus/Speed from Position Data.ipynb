{
 "cells": [
  {
   "cell_type": "markdown",
   "metadata": {},
   "source": [
    "# Speed from Position Data\n",
    "\n",
    "In this Notebook you'll work with data just like the data you'll be using in the final project for this course. That data comes from CSVs that looks like this:\n",
    "\n",
    "| timestamp | displacement  | yaw_rate | acceleration |\n",
    "| :-------: | :----------: | :------: | :----------: |\n",
    "| 0.0 | 0 | 0.0 | 0.0 |\n",
    "| 0.25 | 0.0 | 0.0 | 19.6 |\n",
    "| 0.5 | 1.225 | 0.0 | 19.6 |\n",
    "| 0.75 | 3.675 | 0.0 | 19.6 |\n",
    "| 1.0 | 7.35 | 0.0 | 19.6 |\n",
    "| 1.25 | 12.25 | 0.0 | 0.0 |\n",
    "| 1.5 | 17.15 | -2.82901631903 | 0.0 |\n",
    "| 1.75 | 22.05 | -2.82901631903 | 0.0 |\n",
    "| 2.0 | 26.95 | -2.82901631903 | 0.0 |\n",
    "| 2.25 | 31.85 | -2.82901631903 | 0.0 |"
   ]
  },
  {
   "cell_type": "code",
   "execution_count": null,
   "metadata": {},
   "outputs": [],
   "source": [
    "from helpers import process_data\n",
    "from matplotlib import pyplot as plt"
   ]
  },
  {
   "cell_type": "code",
   "execution_count": null,
   "metadata": {},
   "outputs": [],
   "source": [
    "PARALLEL_PARK_DATA = process_data(\"parallel_park.pickle\")"
   ]
  },
  {
   "cell_type": "code",
   "execution_count": null,
   "metadata": {},
   "outputs": [],
   "source": [
    "# This is what the first few entries in the parallel \n",
    "#   park data look like. \n",
    "\n",
    "PARALLEL_PARK_DATA[:5]"
   ]
  },
  {
   "cell_type": "code",
   "execution_count": null,
   "metadata": {},
   "outputs": [],
   "source": [
    "# In this exercise we'll be differentiating (taking the\n",
    "# derivative of) displacement data. This will require \n",
    "# using only the first two columns of this data.\n",
    "timestamps    = [row[0] for row in PARALLEL_PARK_DATA]\n",
    "displacements = [row[1] for row in PARALLEL_PARK_DATA]\n",
    "\n",
    "# You'll use these data in the next lesson on integration\n",
    "# You can ignore them for now.\n",
    "yaw_rates     = [row[2] for row in PARALLEL_PARK_DATA]\n",
    "accelerations = [row[3] for row in PARALLEL_PARK_DATA]"
   ]
  },
  {
   "cell_type": "code",
   "execution_count": null,
   "metadata": {},
   "outputs": [],
   "source": [
    "plt.title(\"Displacement vs Time while Parallel Parking\")\n",
    "plt.xlabel(\"Time (seconds)\")\n",
    "plt.ylabel(\"Displacement (meters)\")\n",
    "plt.scatter(timestamps, displacements)\n",
    "plt.show()"
   ]
  },
  {
   "cell_type": "markdown",
   "metadata": {},
   "source": [
    "In the graph above, you can see displacement vs time data for a car as it parallel parks. Note that backwards motion winds back the odometer and reduces displacement (this isn't actually how odometers work on modern cars. Sorry Ferris Bueller)\n",
    "\n",
    "Note how for approximately 4 seconds the motion is backwards and then for the last two the car goes forwards.\n",
    "\n",
    "Let's look at some data somewhere in the middle of this trajectory"
   ]
  },
  {
   "cell_type": "code",
   "execution_count": null,
   "metadata": {},
   "outputs": [],
   "source": [
    "print(timestamps[20:22])\n",
    "print(displacements[20:22])"
   ]
  },
  {
   "cell_type": "markdown",
   "metadata": {},
   "source": [
    "So you can see that at $t=1.25$ the car has displacement $x=-1.40875$ and at $t=1.3125$ the car has displacement $x=-1.53125$\n",
    "\n",
    "This means we could calculate the speed / slope as follows:\n",
    "\n",
    "$$\\text{slope} = \\frac{\\text{vertical change}}{\\text{horizontal change}} = \\frac{\\Delta x}{\\Delta t}$$\n",
    "\n",
    "and for the numbers I just mentioned this would mean:\n",
    "\n",
    "$$\\frac{\\Delta x}{\\Delta t} = \\frac{-1.53125 - -1.40875}{1.3125 - 1.25} = \\frac{-0.1225 \\text{ meters}}{0.0625\\text{ seconds}} = -1.96 \\frac{m}{s}$$\n",
    "\n",
    "So I can say the following:\n",
    "\n",
    "> Between $t=1.25$ and $t=1.3125$ the vehicle had an **average speed** of **-1.96 meters per second**\n",
    "\n",
    "I could make this same calculation in code as follows"
   ]
  },
  {
   "cell_type": "code",
   "execution_count": null,
   "metadata": {},
   "outputs": [],
   "source": [
    "delta_x = displacements[21] - displacements[20]\n",
    "delta_t = timestamps[21] - timestamps[20]\n",
    "slope   = delta_x / delta_t\n",
    "\n",
    "print(slope)"
   ]
  },
  {
   "cell_type": "markdown",
   "metadata": {},
   "source": [
    "Earlier in this lesson you worked with truly continuous functions. In that situation you could make $\\Delta t$ as small as you wanted!\n",
    "\n",
    "But now we have real data, which means the size of $\\Delta t$ is dictated by how frequently we made measurements of displacement. In this case it looks like subsequent measurements are separated by\n",
    "\n",
    "$$\\Delta t = 0.0625 \\text{ seconds}$$\n",
    "\n",
    "In the `get_derivative_from_data` function below, I demonstrate how to \"take a derivative\" of real data. Read through this code and understand how it works: in the next notebook you'll be asked to reproduce this code yourself."
   ]
  },
  {
   "cell_type": "code",
   "execution_count": null,
   "metadata": {},
   "outputs": [],
   "source": [
    "def get_derivative_from_data(position_data, time_data):\n",
    "    \"\"\"\n",
    "    Calculates a list of speeds from position_data and \n",
    "    time_data.\n",
    "    \n",
    "    Arguments:\n",
    "      position_data - a list of values corresponding to \n",
    "        vehicle position\n",
    " \n",
    "      time_data     - a list of values (equal in length to\n",
    "        position_data) which give timestamps for each \n",
    "        position measurement\n",
    "    \n",
    "    Returns:\n",
    "      speeds        - a list of values (which is shorter \n",
    "        by ONE than the input lists) of speeds.\n",
    "    \"\"\"\n",
    "    # 1. Check to make sure the input lists have same length\n",
    "    if len(position_data) != len(time_data):\n",
    "        raise(ValueError, \"Data sets must have same length\")\n",
    "    \n",
    "    # 2. Prepare empty list of speeds\n",
    "    speeds = []\n",
    "    \n",
    "    # 3. Get first values for position and time\n",
    "    previous_position = position_data[0]\n",
    "    previous_time     = time_data[0]\n",
    "    \n",
    "    # 4. Begin loop through all data EXCEPT first entry\n",
    "    for i in range(1, len(position_data)):\n",
    "        \n",
    "        # 5. get position and time data for this timestamp\n",
    "        position = position_data[i]\n",
    "        time     = time_data[i]\n",
    "        \n",
    "        # 6. Calculate delta_x and delta_t\n",
    "        delta_x = position - previous_position\n",
    "        delta_t = time - previous_time\n",
    "        \n",
    "        # 7. Speed is slope. Calculate it and append to list\n",
    "        speed = delta_x / delta_t\n",
    "        speeds.append(speed)\n",
    "        \n",
    "        # 8. Update values for next iteration of the loop.\n",
    "        previous_position = position\n",
    "        previous_time     = time\n",
    "    \n",
    "    return speeds\n",
    "\n",
    "# 9. Call this function with appropriate arguments\n",
    "speeds = get_derivative_from_data(displacements, timestamps)\n",
    "\n",
    "# 10. Prepare labels for a plot\n",
    "plt.title(\"Speed vs Time while Parallel Parking\")\n",
    "plt.xlabel(\"Time (seconds)\")\n",
    "plt.ylabel(\"Speed (m / s)\")\n",
    "\n",
    "# 11. Make the plot! Note the slicing of timestamps!\n",
    "plt.scatter(timestamps[1:], speeds)\n",
    "plt.show()"
   ]
  },
  {
   "cell_type": "markdown",
   "metadata": {},
   "source": [
    "Now that you've read through the code and seen how it's used (and what the resulting plot looks like), I want to discuss the numbered sections of the code."
   ]
  },
  {
   "cell_type": "markdown",
   "metadata": {},
   "source": [
    "1. The time and position data need to have equal lengths, since each position measurement is meant to correspond to one of those timestamps.\n",
    "\n",
    "2. The `speeds` list will eventually be returned at the end of the function.\n",
    "\n",
    "3. The use of the word \"previous\" in these variable names will be clearer in step 8. But basically we need to have TWO positions if we're ever going to calculate a delta X. This is where we grab the first position in the position_data list.\n",
    "\n",
    "4. Note that we loop from `range(1, len(position_data))`, which means that the first value for `i` will be `1` and **not** `0`. That's because we already grabbed element 0 in step 3.\n",
    "\n",
    "5. Get the data for this `i`.\n",
    "\n",
    "6. Calculate the change in position and time.\n",
    "\n",
    "7. Find the slope (which is the speed) and append it to the `speeds` list.\n",
    "\n",
    "8. This sets the values of `previous_position` and `previous_time` so that they are correct for the *next* iteration of this loop.\n",
    "\n",
    "9. Here we call the function with the `displacements` and `timestamps` data that we used before.\n",
    "\n",
    "10. Self-explanatory\n",
    "\n",
    "11. This part is interesting. Note that we only plot `timestamps[1:]`. This means \"every element in `timestamps` except the first one\". Remember how in step 4 we looped through every element except the first one? That means that our `speeds` array ends up being 1 element shorter than our original data."
   ]
  },
  {
   "cell_type": "markdown",
   "metadata": {},
   "source": [
    "## What to Remember\n",
    "You don't need to memorize any of this. The important thing to remember is this: \n",
    "\n",
    "When you're working with real time-series data, you calculate the \"derivative\" by finding the slope between adjacent data points.\n",
    "\n",
    "You'll be implementing this on your own in the next notebook. Feel free to come back here if you need help, but try your best to get it on your own."
   ]
  }
 ],
 "metadata": {
  "kernelspec": {
   "display_name": "Python 3",
   "language": "python",
   "name": "python3"
  },
  "language_info": {
   "codemirror_mode": {
    "name": "ipython",
    "version": 3
   },
   "file_extension": ".py",
   "mimetype": "text/x-python",
   "name": "python",
   "nbconvert_exporter": "python",
   "pygments_lexer": "ipython3",
   "version": "3.6.3"
  }
 },
 "nbformat": 4,
 "nbformat_minor": 2
}
