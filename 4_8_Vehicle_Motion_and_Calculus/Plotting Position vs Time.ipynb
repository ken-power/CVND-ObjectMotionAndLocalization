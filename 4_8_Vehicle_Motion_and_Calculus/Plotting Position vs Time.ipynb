{
 "cells": [
  {
   "cell_type": "markdown",
   "metadata": {},
   "source": [
    "# Plotting Position vs Time\n",
    "In this notebook you will plot a position vs time graph of the data you just saw.\n",
    "\n",
    "First, I will demonstrate such a plot by following these steps:\n",
    "\n",
    "1. Importing `pyplot`, Python's most popular plotting library.\n",
    "2. Storing data to be plotted in variables named `X` and `Y`\n",
    "3. Creating a scatter plot of this data using pyplot's `scatter()` function.\n",
    "4. Adding a line connecting two data points using pyplot's `plot()` function.\n",
    "4. Adding axis labels and a title to the graph."
   ]
  },
  {
   "cell_type": "code",
   "execution_count": null,
   "metadata": {},
   "outputs": [],
   "source": [
    "# Step 1.\n",
    "#  we import pyplot as plt so we can refer to the pyplot\n",
    "#  succinctly. This is a standard convention for this library.\n",
    "\n",
    "from matplotlib import pyplot as plt"
   ]
  },
  {
   "cell_type": "markdown",
   "metadata": {},
   "source": [
    "Initially, I only told you the mileage at 2:00 and 3:00. The data looked like this.\n",
    "\n",
    "| Time | Odometer <br>(miles) |\n",
    "|:----:|:--------------------------------:|\n",
    "| 2:00 |                30                |\n",
    "| 3:00 |                80                |\n",
    "\n",
    "I'd like to make a scatter plot of this data and I want my **horizontal** axis to show time and my **vertical** axis to show mileage.\n",
    "\n",
    "In this notebook (and those that follow), we are going to use a capital `X` to store horizontal axis data and a capital `Y` to store vertical axis data. In this case:"
   ]
  },
  {
   "cell_type": "code",
   "execution_count": null,
   "metadata": {},
   "outputs": [],
   "source": [
    "# Step 2.\n",
    "#  get the data into variables called X and Y. This naming pattern\n",
    "#  is a convention. You could use any variables you like.\n",
    "\n",
    "X = [2,3]\n",
    "Y = [30,80]"
   ]
  },
  {
   "cell_type": "code",
   "execution_count": null,
   "metadata": {},
   "outputs": [],
   "source": [
    "# Step 3.\n",
    "#  create a scatter plot using plt.scatter. Note that you NEED\n",
    "#  to call plt.show() to actually see the plot. Forgetting to  \n",
    "#  call plt.show() is a common source of problems for people \n",
    "#  new to this library\n",
    "\n",
    "plt.scatter(X,Y)\n",
    "plt.show()"
   ]
  },
  {
   "cell_type": "markdown",
   "metadata": {},
   "source": [
    "This isn't a very exciting scatter plot since it only has two data points. Let's add a line connecting these data points as well."
   ]
  },
  {
   "cell_type": "code",
   "execution_count": null,
   "metadata": {},
   "outputs": [],
   "source": [
    "# Step 4.\n",
    "#  add lines connecting adjacent points\n",
    "\n",
    "plt.scatter(X,Y)\n",
    "plt.plot(X,Y)\n",
    "plt.show()"
   ]
  },
  {
   "cell_type": "markdown",
   "metadata": {},
   "source": [
    "Let's add a title and labels to the X and Y axes "
   ]
  },
  {
   "cell_type": "code",
   "execution_count": null,
   "metadata": {},
   "outputs": [],
   "source": [
    "plt.scatter(X,Y)\n",
    "plt.plot(X,Y)\n",
    "plt.title(\"Position vs. Time on a Roadtrip\")\n",
    "plt.xlabel(\"Time (in hours)\")\n",
    "plt.ylabel(\"Odometer Reading (in miles)\")\n",
    "plt.show()"
   ]
  },
  {
   "cell_type": "markdown",
   "metadata": {},
   "source": [
    "## Twenty minute resolution\n",
    "When looking at the odometer every *20* minutes, the data looks like this:\n",
    "\n",
    "| Time | Odometer <br>(miles) |\n",
    "|:----:|:--------------------------------:|\n",
    "| 2:00 |                30                |\n",
    "| 2:20 |                40                |\n",
    "| 2:40 |                68                |\n",
    "| 3:00 |                80                |\n",
    "\n",
    "But a better way to think about it for plotting is like this (note the difference in how time is represented):\n",
    "\n",
    "| Time | Odometer <br>(miles) |\n",
    "|:----:|:--------------------------------:|\n",
    "| 2.000 |                30                |\n",
    "| 2.333 |                40                |\n",
    "| 2.667 |                68                |\n",
    "| 3.000 |                80                |\n",
    "\n",
    "### EXERCISE 1 - Make a position vs time graph of the data shown above with lines connecting adjacent dots.\n",
    "\n",
    "Reproduce the demonstration from before using the data shown above."
   ]
  },
  {
   "cell_type": "code",
   "execution_count": null,
   "metadata": {},
   "outputs": [],
   "source": [
    "# TODO - your code for exercise 1 here\n",
    "\n",
    "\n",
    "\n",
    "\n"
   ]
  },
  {
   "cell_type": "markdown",
   "metadata": {},
   "source": [
    "#### Exercise 1 - Solution Check (full solution code at end of notebook)\n",
    "You'll know you're correct when you've generated a plot that looks something like the following:\n",
    "\n",
    "![](https://d17h27t6h515a5.cloudfront.net/topher/2017/December/5a2ee74f_vmc-l1-20-min-plot/vmc-l1-20-min-plot.png)\n"
   ]
  },
  {
   "cell_type": "markdown",
   "metadata": {},
   "source": [
    "### EXERCISE 2 - Reflect\n",
    "Look at the graph above and think about the following questions (we will talk about them more in the video that follows) \n",
    "\n",
    "1. How can you tell which of these time intervals had the highest average speed (without looking at the actual data?)\n",
    "\n",
    "2. In the car stopped from 3:00 - 4:00 and you were to plot that data, what would the **slope** of that line look like? "
   ]
  },
  {
   "cell_type": "code",
   "execution_count": null,
   "metadata": {},
   "outputs": [],
   "source": [
    "# \n",
    "\n",
    "#\n",
    "\n",
    "#\n",
    "\n",
    "#  SOLUTION CODE BELOW\n",
    "\n",
    "#\n",
    "\n",
    "#\n",
    "\n",
    "#\n",
    "\n",
    "# Exercise 1 - Solution\n",
    "\n",
    "X = [\n",
    "    2.000,\n",
    "    2.333,\n",
    "    2.667,\n",
    "    3.000\n",
    "]\n",
    "\n",
    "Y = [\n",
    "    30,\n",
    "    40,\n",
    "    68,\n",
    "    80\n",
    "]\n",
    "\n",
    "plt.scatter(X,Y)\n",
    "plt.plot(X,Y)\n",
    "plt.title(\"Position vs. Time on a Roadtrip\")\n",
    "plt.xlabel(\"Time (in hours)\")\n",
    "plt.ylabel(\"Odometer Reading (in miles)\")\n",
    "plt.show()"
   ]
  },
  {
   "cell_type": "code",
   "execution_count": null,
   "metadata": {},
   "outputs": [],
   "source": []
  }
 ],
 "metadata": {
  "kernelspec": {
   "display_name": "Python 3",
   "language": "python",
   "name": "python3"
  },
  "language_info": {
   "codemirror_mode": {
    "name": "ipython",
    "version": 3
   },
   "file_extension": ".py",
   "mimetype": "text/x-python",
   "name": "python",
   "nbconvert_exporter": "python",
   "pygments_lexer": "ipython3",
   "version": "3.6.3"
  }
 },
 "nbformat": 4,
 "nbformat_minor": 2
}
